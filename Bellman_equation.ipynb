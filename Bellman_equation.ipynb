{
 "cells": [
  {
   "cell_type": "code",
   "execution_count": 1,
   "id": "6e111f98-818f-4458-8c11-b7f37bc9ec81",
   "metadata": {},
   "outputs": [],
   "source": [
    "import numpy as np\n",
    "import pandas as pd\n",
    "\n",
    "def bellman_equation(gamma, probability_matrix, reward_matrix):\n",
    "    identity_matrix = np.eye(len(probability_matrix))\n",
    "    inverse_matrix = np.linalg.inv(identity_matrix - gamma * probability_matrix)\n",
    "    value_function = np.dot(inverse_matrix, reward_matrix)\n",
    "    return value_function\n",
    "\n",
    "\n"
   ]
  },
  {
   "cell_type": "code",
   "execution_count": 3,
   "id": "931bcada-e641-41ef-a89e-48a38b80eefd",
   "metadata": {},
   "outputs": [
    {
     "name": "stdin",
     "output_type": "stream",
     "text": [
      "Enter the number of classes:  3\n",
      "Enter the name of class 1:  c1\n",
      "Enter the name of class 2:  c2\n",
      "Enter the name of class 3:  c3\n"
     ]
    },
    {
     "name": "stdout",
     "output_type": "stream",
     "text": [
      "Enter the rewards for each class:\n"
     ]
    },
    {
     "name": "stdin",
     "output_type": "stream",
     "text": [
      "Reward for class c1:  0.5\n",
      "Reward for class c2:  0.3\n",
      "Reward for class c3:  10\n"
     ]
    },
    {
     "name": "stdout",
     "output_type": "stream",
     "text": [
      "Enter the transition probabilities between classes:\n"
     ]
    },
    {
     "name": "stdin",
     "output_type": "stream",
     "text": [
      "Probability of transitioning from c1 to c1:  0.3\n",
      "Probability of transitioning from c1 to c2:  00.3\n",
      "Probability of transitioning from c1 to c3:  0.4\n",
      "Probability of transitioning from c2 to c1:  0.2\n",
      "Probability of transitioning from c2 to c2:  0.6\n",
      "Probability of transitioning from c2 to c3:  0.2\n",
      "Probability of transitioning from c3 to c1:  0.5\n",
      "Probability of transitioning from c3 to c2:  0.1\n",
      "Probability of transitioning from c3 to c3:  0.4\n"
     ]
    },
    {
     "name": "stdout",
     "output_type": "stream",
     "text": [
      "\n",
      "Transition Probability Matrix:\n",
      "     c1   c2   c3\n",
      "c1  0.3  0.3  0.4\n",
      "c2  0.2  0.6  0.2\n",
      "c3  0.5  0.1  0.4\n",
      "\n"
     ]
    },
    {
     "name": "stdin",
     "output_type": "stream",
     "text": [
      "Enter the discount factor (gamma):  0.9\n"
     ]
    },
    {
     "name": "stdout",
     "output_type": "stream",
     "text": [
      "\n",
      "Value function: [33.58170872 30.84375    43.57454128]\n"
     ]
    }
   ],
   "source": [
    "# Get the number of classes\n",
    "num_classes = int(input(\"Enter the number of classes: \"))\n",
    "\n",
    "# Get the names of the classes\n",
    "class_names = []\n",
    "for i in range(num_classes):\n",
    "    class_name = input(f\"Enter the name of class {i+1}: \")\n",
    "    class_names.append(class_name)\n",
    "\n",
    "# Get the reward values for each class\n",
    "reward_matrix = []\n",
    "print(\"Enter the rewards for each class:\")\n",
    "for class_name in class_names:\n",
    "    reward = float(input(f\"Reward for class {class_name}: \"))\n",
    "    reward_matrix.append(reward)\n",
    "\n",
    "# Get the transition probabilities between classes\n",
    "print(\"Enter the transition probabilities between classes:\")\n",
    "probability_matrix = []\n",
    "for i in range(num_classes):\n",
    "    probabilities = []\n",
    "    for j in range(num_classes):\n",
    "        probability = float(input(f\"Probability of transitioning from {class_names[i]} to {class_names[j]}: \"))\n",
    "        probabilities.append(probability)\n",
    "    probability_matrix.append(probabilities)\n",
    "\n",
    "\n",
    "\n",
    "# Convert lists to numpy arrays\n",
    "reward_matrix = np.array(reward_matrix)\n",
    "probability_matrix = np.array(probability_matrix)\n",
    "\n",
    "# Create a DataFrame for the transition probability matrix\n",
    "df_probability_matrix = pd.DataFrame(probability_matrix, index=class_names, columns=class_names)\n",
    "\n",
    "# Print the transition probability matrix as a DataFrame\n",
    "print(\"\\nTransition Probability Matrix:\")\n",
    "print(df_probability_matrix)\n",
    "print(\"\")\n",
    "\n",
    "gamma = float(input(\"Enter the discount factor (gamma): \"))\n",
    "\n",
    "\n",
    "\n",
    "# Solve the Bellman equation\n",
    "result = bellman_equation(gamma, probability_matrix, reward_matrix)\n",
    "print(\"\\nValue function:\", result)"
   ]
  },
  {
   "cell_type": "code",
   "execution_count": null,
   "id": "847f17cb-329e-418a-8832-fbcd785df69b",
   "metadata": {},
   "outputs": [],
   "source": []
  }
 ],
 "metadata": {
  "kernelspec": {
   "display_name": "Python 3 (ipykernel)",
   "language": "python",
   "name": "python3"
  },
  "language_info": {
   "codemirror_mode": {
    "name": "ipython",
    "version": 3
   },
   "file_extension": ".py",
   "mimetype": "text/x-python",
   "name": "python",
   "nbconvert_exporter": "python",
   "pygments_lexer": "ipython3",
   "version": "3.9.18"
  }
 },
 "nbformat": 4,
 "nbformat_minor": 5
}
